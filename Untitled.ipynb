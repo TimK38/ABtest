{
 "cells": [
  {
   "cell_type": "code",
   "execution_count": 3,
   "id": "8cf95ebc-204c-4871-94af-57bbc2451ac8",
   "metadata": {},
   "outputs": [
    {
     "name": "stdout",
     "output_type": "stream",
     "text": [
      "Now use function 'dog_bark'\n",
      "Bark !!!\n",
      "Now use function 'cat_miaow'\n",
      "Miaow ~~~\n"
     ]
    }
   ],
   "source": [
    "def print_func_name(func):\n",
    "    def wrap():\n",
    "        print(\"Now use function '{}'\".format(func.__name__))\n",
    "        func()\n",
    "    return wrap\n",
    "\n",
    "\n",
    "def dog_bark():\n",
    "    print(\"Bark !!!\")\n",
    "\n",
    "\n",
    "def cat_miaow():\n",
    "    print(\"Miaow ~~~\")\n",
    "\n",
    "\n",
    "if __name__ == \"__main__\":\n",
    "    print_func_name(dog_bark)()\n",
    "    # > Now use function 'dog_bark'\n",
    "    # > Bark !!!\n",
    "\n",
    "    print_func_name(cat_miaow)()"
   ]
  },
  {
   "cell_type": "code",
   "execution_count": 4,
   "id": "fa79f842-6ddb-4005-b331-050ccadf753c",
   "metadata": {},
   "outputs": [
    {
     "name": "stdout",
     "output_type": "stream",
     "text": [
      "Now use function 'dog_bark'\n",
      "Bark !!!\n",
      "Now use function 'cat_miaow'\n",
      "Miaow ~~~\n"
     ]
    }
   ],
   "source": [
    "def print_func_name(func):\n",
    "    def warp():\n",
    "        print(\"Now use function '{}'\".format(func.__name__))\n",
    "        func()\n",
    "    return warp\n",
    "\n",
    "\n",
    "@print_func_name\n",
    "def dog_bark():\n",
    "    print(\"Bark !!!\")\n",
    "\n",
    "\n",
    "@print_func_name\n",
    "def cat_miaow():\n",
    "    print(\"Miaow ~~~\")\n",
    "\n",
    "\n",
    "if __name__ == \"__main__\":\n",
    "    dog_bark()\n",
    "    # > Now use function 'dog_bark'\n",
    "    # > Bark !!!\n",
    "\n",
    "    cat_miaow()\n",
    "    # > Now use function 'cat_miaow'\n",
    "    # > Miaow ~~~"
   ]
  },
  {
   "cell_type": "code",
   "execution_count": 6,
   "id": "e40e6375-fee4-4037-a17a-8b982c8b37cf",
   "metadata": {},
   "outputs": [
    {
     "name": "stdout",
     "output_type": "stream",
     "text": [
      "Now use function 'dog_bark'\n",
      "Now Unix time is 1687066322.\n",
      "rrrrrrr\n",
      "Bark !!!\n"
     ]
    }
   ],
   "source": [
    "import time\n",
    "\n",
    "\n",
    "\n",
    "def print_func_name(time , dog ):\n",
    "    def decorator(func):\n",
    "        def wrap():\n",
    "            print(\"Now use function '{}'\".format(func.__name__))\n",
    "            print(\"Now Unix time is {}.\".format(int(time)))\n",
    "            print(dog)\n",
    "            func()\n",
    "        return wrap\n",
    "    return decorator\n",
    "\n",
    "\n",
    "@print_func_name(time=time.time() , dog = 'rrrrrrr')\n",
    "def dog_bark():\n",
    "    print(\"Bark !!!\")\n",
    "\n",
    "\n",
    "\n",
    "if __name__ == \"__main__\":\n",
    "    dog_bark()\n",
    "    # > Now use function 'dog_bark'\n",
    "    # > Now Unix time is 1639491313.\n",
    "    # > Bark !!!"
   ]
  },
  {
   "cell_type": "code",
   "execution_count": 8,
   "id": "f46b4bcf-2eae-4216-85cc-df5056387691",
   "metadata": {},
   "outputs": [
    {
     "name": "stdout",
     "output_type": "stream",
     "text": [
      "I can pee very hard......\n",
      "I can jump uselessly QQQ 123 \n",
      "I can poo like a super pooping machine!\n"
     ]
    }
   ],
   "source": [
    "class Dog:\n",
    "    def __init__(self, func):\n",
    "        self.talent = func\n",
    "\n",
    "    def bark(self):\n",
    "        print(\"Bark !!!\")\n",
    "\n",
    "\n",
    "@Dog\n",
    "def dog_can_pee():\n",
    "    print(\"I can pee very hard......\")\n",
    "\n",
    "\n",
    "@Dog\n",
    "def dog_can_jump(m):\n",
    "    print(\"I can jump uselessly QQQ {m} \".format(m = m) )\n",
    "\n",
    "\n",
    "@Dog\n",
    "def dog_can_poo():\n",
    "    print(\"I can poo like a super pooping machine!\")\n",
    "\n",
    "\n",
    "\n",
    "if __name__ == \"__main__\":\n",
    "    dog_1 = dog_can_pee\n",
    "    dog_1.talent()\n",
    "    # > I can pee very hard......\n",
    "\n",
    "    dog_2 = dog_can_jump\n",
    "    dog_2.talent( m = 123)\n",
    "    # > I can jump uselessly QQQ\n",
    "\n",
    "    dog_3 = dog_can_poo\n",
    "    dog_3.talent()"
   ]
  },
  {
   "cell_type": "code",
   "execution_count": 10,
   "id": "470740e4-20fd-400f-bd14-66ff6ce61d36",
   "metadata": {},
   "outputs": [
    {
     "name": "stdout",
     "output_type": "stream",
     "text": [
      "Bark !!!\n"
     ]
    }
   ],
   "source": [
    "dog_2.bark()"
   ]
  },
  {
   "cell_type": "code",
   "execution_count": null,
   "id": "18e6acd8-9f39-45da-9365-3e5de2ae94cf",
   "metadata": {},
   "outputs": [],
   "source": []
  }
 ],
 "metadata": {
  "kernelspec": {
   "display_name": "Python 3 (ipykernel)",
   "language": "python",
   "name": "python3"
  },
  "language_info": {
   "codemirror_mode": {
    "name": "ipython",
    "version": 3
   },
   "file_extension": ".py",
   "mimetype": "text/x-python",
   "name": "python",
   "nbconvert_exporter": "python",
   "pygments_lexer": "ipython3",
   "version": "3.9.13"
  }
 },
 "nbformat": 4,
 "nbformat_minor": 5
}
